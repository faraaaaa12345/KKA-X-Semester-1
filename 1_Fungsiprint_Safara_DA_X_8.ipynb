{
  "nbformat": 4,
  "nbformat_minor": 0,
  "metadata": {
    "colab": {
      "provenance": [],
      "authorship_tag": "ABX9TyPl+OG+4ScQTyHs67dFN4pu",
      "include_colab_link": true
    },
    "kernelspec": {
      "name": "python3",
      "display_name": "Python 3"
    },
    "language_info": {
      "name": "python"
    }
  },
  "cells": [
    {
      "cell_type": "markdown",
      "metadata": {
        "id": "view-in-github",
        "colab_type": "text"
      },
      "source": [
        "<a href=\"https://colab.research.google.com/github/faraaaaa12345/KKA-X-Semester-1/blob/main/1_Fungsiprint_Safara_DA_X_8.ipynb\" target=\"_parent\"><img src=\"https://colab.research.google.com/assets/colab-badge.svg\" alt=\"Open In Colab\"/></a>"
      ]
    },
    {
      "cell_type": "code",
      "execution_count": null,
      "metadata": {
        "colab": {
          "base_uri": "https://localhost:8080/"
        },
        "id": "yMdYwK52gpGr",
        "outputId": "a3513c11-d9b2-4b7f-948f-d83e8483b19f"
      },
      "outputs": [
        {
          "output_type": "stream",
          "name": "stdout",
          "text": [
            "BMI = 19.1 kg/m^2\n"
          ]
        }
      ],
      "source": [
        "print(\"BMI = 19.1 kg/m^2\")"
      ]
    },
    {
      "cell_type": "code",
      "source": [
        "print(\"Healty weight\")"
      ],
      "metadata": {
        "colab": {
          "base_uri": "https://localhost:8080/"
        },
        "id": "RxIHWKX4jIXo",
        "outputId": "02e405e1-0c64-41f9-e173-845a57e7205d"
      },
      "execution_count": null,
      "outputs": [
        {
          "output_type": "stream",
          "name": "stdout",
          "text": [
            "Healty weight\n"
          ]
        }
      ]
    },
    {
      "cell_type": "code",
      "source": [
        "nama = \"safara Dwi Amalia\"\n",
        "BB = 56\n",
        "TB = 153\n",
        "\n",
        "print(nama)"
      ],
      "metadata": {
        "colab": {
          "base_uri": "https://localhost:8080/"
        },
        "id": "7FHgnA3mkGn4",
        "outputId": "e17f3369-494e-4eb9-c1c5-f322bb66fd66"
      },
      "execution_count": null,
      "outputs": [
        {
          "output_type": "stream",
          "name": "stdout",
          "text": [
            "safara Dwi Amalia\n"
          ]
        }
      ]
    },
    {
      "cell_type": "code",
      "source": [
        "\n",
        "nama_siswa_1 = \"Dinda\"\n",
        "nama_siswa_2 = \"Aurin\"\n",
        "nama_siswa_3 = \"Lisaan\"\n",
        "\n",
        "print(nama_siswa_3,nama_siswa_2,nama_siswa_1,sep=\"/\")"
      ],
      "metadata": {
        "id": "fiWvNtcIcXoZ",
        "colab": {
          "base_uri": "https://localhost:8080/"
        },
        "outputId": "debb9a08-3c0e-4b6c-a418-bfaa03d3f110"
      },
      "execution_count": null,
      "outputs": [
        {
          "output_type": "stream",
          "name": "stdout",
          "text": [
            "Lisaan/Aurin/Dinda\n"
          ]
        }
      ]
    },
    {
      "cell_type": "code",
      "source": [
        "nama_siswa_4 = \"Azkal\"\n",
        "\n",
        "nama_siswa_5 = \"Hasim\"\n",
        "\n",
        "nama_siswa_6 = \"Chilmi\"\n",
        "\n",
        "nama_siswa_7 = \"Nova\"\n",
        "\n",
        "print(nama_siswa_6, end=\"~\")\n",
        "print(nama_siswa_4,)\n",
        "\n",
        "print(nama_siswa_5, end=\"-\")\n",
        "print(nama_siswa_7)\n",
        "\n",
        "print(nama_siswa_4, end=\"/\")\n",
        "print(nama_siswa_7, end=\"&\")\n",
        "print(nama_siswa_6)"
      ],
      "metadata": {
        "colab": {
          "base_uri": "https://localhost:8080/"
        },
        "id": "uoZAmyUQnQHT",
        "outputId": "65cf07a5-8c3f-4481-9609-27d7e8c3e5fd"
      },
      "execution_count": null,
      "outputs": [
        {
          "output_type": "stream",
          "name": "stdout",
          "text": [
            "Chilmi~Azkal\n",
            "Hasim-Nova\n",
            "Azkal/Nova&Chilmi\n"
          ]
        }
      ]
    },
    {
      "cell_type": "markdown",
      "source": [],
      "metadata": {
        "id": "wsohrzldtwb6"
      }
    }
  ]
}