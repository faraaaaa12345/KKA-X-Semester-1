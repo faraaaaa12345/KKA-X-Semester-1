{
  "nbformat": 4,
  "nbformat_minor": 0,
  "metadata": {
    "colab": {
      "provenance": [],
      "include_colab_link": true
    },
    "kernelspec": {
      "name": "python3",
      "display_name": "Python 3"
    },
    "language_info": {
      "name": "python"
    }
  },
  "cells": [
    {
      "cell_type": "markdown",
      "metadata": {
        "id": "view-in-github",
        "colab_type": "text"
      },
      "source": [
        "<a href=\"https://colab.research.google.com/github/faraaaaa12345/KKA-X-Semester-1/blob/main/1_Fungsi_print_fara_x_8.ipynb\" target=\"_parent\"><img src=\"https://colab.research.google.com/assets/colab-badge.svg\" alt=\"Open In Colab\"/></a>"
      ]
    },
    {
      "cell_type": "markdown",
      "source": [
        "Nama: safara Dwi Amalia\n",
        "\n",
        "Kelas: x.8\n",
        "\n",
        "Absen: 33"
      ],
      "metadata": {
        "id": "7WODDG8OdjEg"
      }
    },
    {
      "cell_type": "markdown",
      "source": [
        "#Menampilkan Teks Bebas"
      ],
      "metadata": {
        "id": "ZwcDxu3FflHk"
      }
    },
    {
      "cell_type": "code",
      "execution_count": null,
      "metadata": {
        "colab": {
          "base_uri": "https://localhost:8080/"
        },
        "id": "LNNZpLJRdXoL",
        "outputId": "bd4a683f-3620-414d-ea60-028ae10ba7c0"
      },
      "outputs": [
        {
          "output_type": "stream",
          "name": "stdout",
          "text": [
            "Helo world!\n"
          ]
        }
      ],
      "source": [
        "print(\"Helo world!\")"
      ]
    },
    {
      "cell_type": "code",
      "source": [
        "print(\"safara dwi amalia\")"
      ],
      "metadata": {
        "colab": {
          "base_uri": "https://localhost:8080/"
        },
        "id": "qnxv-OfNhdrz",
        "outputId": "3e3045fa-d41f-439a-da25-ec60c5077473"
      },
      "execution_count": null,
      "outputs": [
        {
          "output_type": "stream",
          "name": "stdout",
          "text": [
            "safara dwi amalia\n"
          ]
        }
      ]
    },
    {
      "cell_type": "code",
      "source": [
        "usia=14"
      ],
      "metadata": {
        "id": "ZSRe7xmUiYXM"
      },
      "execution_count": null,
      "outputs": []
    },
    {
      "cell_type": "markdown",
      "source": [
        "#Menampilkan Nilai Variabel"
      ],
      "metadata": {
        "id": "42dbYERHw0Ca"
      }
    },
    {
      "cell_type": "code",
      "source": [
        "usia = 15\n",
        "\n",
        "print(usia)"
      ],
      "metadata": {
        "colab": {
          "base_uri": "https://localhost:8080/"
        },
        "id": "iKISx-TPxDWB",
        "outputId": "9eea3e2a-7221-49fd-d552-26dd00a7b0ac"
      },
      "execution_count": null,
      "outputs": [
        {
          "output_type": "stream",
          "name": "stdout",
          "text": [
            "15\n"
          ]
        }
      ]
    },
    {
      "cell_type": "code",
      "source": [
        "Nama = \"Safara Dwi Amalia\"\n",
        "\n",
        "print(Nama)"
      ],
      "metadata": {
        "colab": {
          "base_uri": "https://localhost:8080/"
        },
        "id": "nMs9oZy4xTst",
        "outputId": "8048360d-17dd-4b36-b37e-a5549264ebd7"
      },
      "execution_count": null,
      "outputs": [
        {
          "output_type": "stream",
          "name": "stdout",
          "text": [
            "Safara Dwi Amalia\n"
          ]
        }
      ]
    },
    {
      "cell_type": "code",
      "source": [
        "bb = 57\n",
        "\n",
        "print(bb)"
      ],
      "metadata": {
        "colab": {
          "base_uri": "https://localhost:8080/"
        },
        "id": "G8ei3Dt3xgQY",
        "outputId": "d94fc7aa-6ce2-454e-cd24-e1a6e03afb18"
      },
      "execution_count": null,
      "outputs": [
        {
          "output_type": "stream",
          "name": "stdout",
          "text": [
            "57\n"
          ]
        }
      ]
    },
    {
      "cell_type": "markdown",
      "source": [
        "#Menampilkan Teks Bebas Dan Nilai Variabel"
      ],
      "metadata": {
        "id": "xMC-WgXxxp11"
      }
    },
    {
      "cell_type": "code",
      "source": [
        "print(f\"perkenalkan nama saya {Nama}.\")"
      ],
      "metadata": {
        "colab": {
          "base_uri": "https://localhost:8080/"
        },
        "id": "QA9bxP3bxx60",
        "outputId": "dd2bd5d6-930d-4f1d-e10f-54b66f8db9c2"
      },
      "execution_count": null,
      "outputs": [
        {
          "output_type": "stream",
          "name": "stdout",
          "text": [
            "perkenalkan nama saya Safara Dwi Amalia.\n"
          ]
        }
      ]
    },
    {
      "cell_type": "code",
      "source": [
        "print(f\"berat badan saya {bb} kg.\")"
      ],
      "metadata": {
        "colab": {
          "base_uri": "https://localhost:8080/"
        },
        "id": "-dA0E_pjyA-2",
        "outputId": "8eb4e43e-570c-48da-d425-e6089514ab75"
      },
      "execution_count": null,
      "outputs": [
        {
          "output_type": "stream",
          "name": "stdout",
          "text": [
            "berat badan saya 57 kg.\n"
          ]
        }
      ]
    },
    {
      "cell_type": "code",
      "source": [
        "print(\"perkenalkan nama saya \" + Nama)"
      ],
      "metadata": {
        "colab": {
          "base_uri": "https://localhost:8080/"
        },
        "id": "wUOUBTwsyPBe",
        "outputId": "985fa76a-6eb7-447b-fe77-2f204c7c6a21"
      },
      "execution_count": null,
      "outputs": [
        {
          "output_type": "stream",
          "name": "stdout",
          "text": [
            "perkenalkan nama saya Safara Dwi Amalia\n"
          ]
        }
      ]
    },
    {
      "cell_type": "code",
      "source": [
        "print(\"berat badan saya \" + str(bb) + \"kg. \")"
      ],
      "metadata": {
        "colab": {
          "base_uri": "https://localhost:8080/"
        },
        "id": "_O0vkzWuyoib",
        "outputId": "0a72b5bb-a553-4294-95c4-6c2a6949a7f7"
      },
      "execution_count": null,
      "outputs": [
        {
          "output_type": "stream",
          "name": "stdout",
          "text": [
            "berat badan saya 57kg. \n"
          ]
        }
      ]
    },
    {
      "cell_type": "code",
      "source": [
        "print(\"berat badan saya \" , bb, \" kg. \")"
      ],
      "metadata": {
        "colab": {
          "base_uri": "https://localhost:8080/"
        },
        "id": "CrfljWoLzYVW",
        "outputId": "a1bd5b81-2f15-4cb2-c88e-a1a739088e16"
      },
      "execution_count": null,
      "outputs": [
        {
          "output_type": "stream",
          "name": "stdout",
          "text": [
            "berat badan saya  57  kg. \n"
          ]
        }
      ]
    },
    {
      "cell_type": "markdown",
      "source": [
        "#Escape Character"
      ],
      "metadata": {
        "id": "ZPKRVzpri4Nr"
      }
    },
    {
      "cell_type": "code",
      "source": [
        "print(\"Nama: safara dwi amalia \\nkelas: x.8\\nNo. Absen: 33\")"
      ],
      "metadata": {
        "colab": {
          "base_uri": "https://localhost:8080/"
        },
        "id": "Uvv_qVTmhVK4",
        "outputId": "f79c5381-d06c-45db-b461-bb2cdd572a64"
      },
      "execution_count": null,
      "outputs": [
        {
          "output_type": "stream",
          "name": "stdout",
          "text": [
            "Nama: safara dwi amalia \n",
            "kelas: x.8\n",
            "No. Absen: 33\n"
          ]
        }
      ]
    },
    {
      "cell_type": "code",
      "source": [
        "print(\"\"\"Nama\\t\\t: safara dwi amalia\n",
        "kelas\\t\\t: x.8\n",
        "No. Absen\\t: 33\"\"\")"
      ],
      "metadata": {
        "colab": {
          "base_uri": "https://localhost:8080/"
        },
        "id": "Rytc84LAhHFB",
        "outputId": "b4c9aaf1-bd0a-48e1-f1f9-25ec9b36e2a4"
      },
      "execution_count": null,
      "outputs": [
        {
          "output_type": "stream",
          "name": "stdout",
          "text": [
            "Nama\t\t: safara dwi amalia \n",
            "kelas\t\t: x.8\n",
            "No. Absen\t: 33\n"
          ]
        }
      ]
    },
    {
      "cell_type": "code",
      "source": [
        "print('Nama:Ja\\'far Shodiq\\nKelas: X.8\\nNo. Absen:33')"
      ],
      "metadata": {
        "colab": {
          "base_uri": "https://localhost:8080/"
        },
        "id": "VgumtrcXoCFO",
        "outputId": "c32bb43e-5cd6-4c8f-c755-62236c0ecc48"
      },
      "execution_count": null,
      "outputs": [
        {
          "output_type": "stream",
          "name": "stdout",
          "text": [
            "Nama:Ja'far Shodiq\n",
            "Kelas: X.8\n",
            "No. Absen:33\n"
          ]
        }
      ]
    },
    {
      "cell_type": "code",
      "source": [
        "print('Nama:Ja\\'far shodiq\\nKelas: x.8\\nNo. Absen: 33')"
      ],
      "metadata": {
        "colab": {
          "base_uri": "https://localhost:8080/"
        },
        "id": "o82jYrCbtHxH",
        "outputId": "db764f27-42aa-4f64-dd75-a863ed9fa648"
      },
      "execution_count": null,
      "outputs": [
        {
          "output_type": "stream",
          "name": "stdout",
          "text": [
            "Nama:Ja'far shodiq\n",
            "Kelas: x.8\n",
            "No. Absen: 33\n"
          ]
        }
      ]
    },
    {
      "cell_type": "code",
      "source": [
        "print(\"Lokasi File Tugas KKA:Local Disk C:\\\\KKA\\\\Tugas fara\")"
      ],
      "metadata": {
        "colab": {
          "base_uri": "https://localhost:8080/"
        },
        "id": "71hFZzU4uK16",
        "outputId": "4842108f-dd15-469a-f05e-74a624bd3028"
      },
      "execution_count": null,
      "outputs": [
        {
          "output_type": "stream",
          "name": "stdout",
          "text": [
            "Lokasi File Tugas KKA:Local Disk C:\\KKA\\Tugas fara\n"
          ]
        }
      ]
    },
    {
      "cell_type": "markdown",
      "source": [
        "#Parameter Fungsi Print()"
      ],
      "metadata": {
        "id": "B8BzSb9lq4Dg"
      }
    },
    {
      "cell_type": "code",
      "source": [
        "Tahun = 2025\n",
        "Bulan = \"Agustus\"\n",
        "Tanggal = 23\n",
        "\n",
        "print(Tahun, Bulan, Tanggal, sep=\"-\")"
      ],
      "metadata": {
        "colab": {
          "base_uri": "https://localhost:8080/"
        },
        "id": "Xby638FHrFeP",
        "outputId": "874a8417-62f5-4e7c-8d5e-5a0180fc74f3"
      },
      "execution_count": null,
      "outputs": [
        {
          "output_type": "stream",
          "name": "stdout",
          "text": [
            "2025-Agustus-23\n"
          ]
        }
      ]
    },
    {
      "cell_type": "code",
      "source": [
        "nama_depan = \"Safara\"\n",
        "nama_belakang = \"Amalia\"\n",
        "\n",
        "print(nama_depan, end=\"\")\n",
        "print(nama_belakang)"
      ],
      "metadata": {
        "colab": {
          "base_uri": "https://localhost:8080/"
        },
        "id": "6rg3-xzmrmzR",
        "outputId": "d5260a55-4bc3-4bea-c4e0-838f93d1ff0d"
      },
      "execution_count": null,
      "outputs": [
        {
          "output_type": "stream",
          "name": "stdout",
          "text": [
            "SafaraAmalia\n"
          ]
        }
      ]
    },
    {
      "cell_type": "code",
      "source": [
        "nama_siswa_1=\"Dinda\"\n",
        "nama_siswa_2=\"Aurin\"\n",
        "nama_siswa_3=\"Lisaan\"\n",
        "\n",
        "print(nama_siswa_3, nama_siswa_2, nama_siswa_3, nama_siswa_1, sep= '/')"
      ],
      "metadata": {
        "colab": {
          "base_uri": "https://localhost:8080/"
        },
        "id": "bqRLNYwvaPJZ",
        "outputId": "fa79174b-1c2b-45d4-ab27-ffab99eeb2ac"
      },
      "execution_count": null,
      "outputs": [
        {
          "output_type": "stream",
          "name": "stdout",
          "text": [
            "Lisaan/Aurin/Lisaan/Dinda\n"
          ]
        }
      ]
    },
    {
      "cell_type": "code",
      "source": [
        "nama_siswa_4=\"Azkal\"\n",
        "nama_siswa_5=\"Hasim\"\n",
        "nama_siswa_6=\"Chilmi\"\n",
        "nama_siswa_7=\"Nova\"\n",
        "\n",
        "print(nama_siswa_6, end=\"~\")\n",
        "print(nama_siswa_4)\n",
        "print(nama_siswa_5, end=\"-\")\n",
        "print(nama_siswa_7)\n",
        "print(nama_siswa_4, end=\"/\")\n",
        "print(nama_siswa_7, end=\"&\")\n",
        "print(nama_siswa_5)"
      ],
      "metadata": {
        "colab": {
          "base_uri": "https://localhost:8080/"
        },
        "id": "cpDoSIxCbPOZ",
        "outputId": "bc73396c-9db7-4d56-9392-8a968cbd2617"
      },
      "execution_count": null,
      "outputs": [
        {
          "output_type": "stream",
          "name": "stdout",
          "text": [
            "Chilmi~Azkal\n",
            "Hasim-Nova\n",
            "Azkal/Nova&Hasim\n"
          ]
        }
      ]
    }
  ]
}